{
 "cells": [
  {
   "cell_type": "markdown",
   "id": "fe52fcb6",
   "metadata": {},
   "source": [
    "# Introduction"
   ]
  },
  {
   "cell_type": "markdown",
   "id": "a80443df",
   "metadata": {},
   "source": [
    "This document is designed to show case the potential and application of Computational Optimization (gradient-based) and Automation in a straightforward way, using adhesive joint stress simulation as an example.  \n",
    "\n",
    "The potential of Optimization is visible by the drastic before and after graph in Figure 1, Section 1. For its application, beginners in this field can read the entire Section 2, whilst those with basic knowledge can skip to the text in **bold** which highlights the interesting/advanced transferable knowledge (Fourier Series, choosing a powerful metric for the Objective Function and the Sum of Squared minimizing). There are many articles that discuss selection of appropriate optimization algorithms, however, there is a lack of detail in its implementation, which this report focuses on.   \n",
    "\n",
    "For Automation code, please read Section 3.  \n",
    "\n",
    "All users should read the brief Chapter 1 to understand the context."
   ]
  },
  {
   "cell_type": "markdown",
   "id": "c0a4adf2",
   "metadata": {},
   "source": [
    "# 1. Power of Engineering Optimization"
   ]
  },
  {
   "cell_type": "markdown",
   "id": "da4625d4",
   "metadata": {},
   "source": [
    "The following figures are results of computational simulations performed on the final model of my individual project on adhesive joints using the software, ANSYS. \n",
    "\n",
    "Adhesive joints with constant stiffness typically fail under load as they cannot evenly distribute a load along its length as seen in the red Base case curve (Figure 1, top), and therefore have high peak stresses (16 MPa). The project achieved a near-even distribution of load (green curve) and significant lowering of peak stress by optimizing the magnitude of adhesive stiffness continuously along the overlap (Figure 2) and therefore improving the safety factor. \n",
    "\n",
    "To put it into scale, the peak stress was lowered by around 8 MPa, which is about 80 times the atmospheric pressure humans experience on earth. The following will discuss how this was implemented."
   ]
  },
  
![](report_figures.png)
  
  {
   "cell_type": "markdown",
   "id": "ddbe2846",
   "metadata": {},
   "source": [
    "# 2. Optimization Application"
   ]
  },
  {
   "cell_type": "markdown",
   "id": "5b34a830",
   "metadata": {},
   "source": [
    "There are three main parts to any Optimization problem. Choosing inputs, outputs, and the optimization algorithm. "
   ]
  },
  {
   "cell_type": "markdown",
   "id": "64b410b9",
   "metadata": {},
   "source": [
    "## 2.1 Optimization Algorithm "
   ]
  },
  {
   "cell_type": "markdown",
   "id": "389ac937",
   "metadata": {},
   "source": [
    "There are many algorithms to choose from, each having their strengths and limitations, however their purpose remains the same, to determine the most efficient solutions (input) and objective function (output). The fundamental working also remains the same: change the input, obtain the output, assess the output, and then change the input again accordingly until no change in output is observed (convergence) or the maximum number of iterations is reached. \n",
    "\n",
    "This research utilized a gradient based optimization algorithm based on quasi-Newton methods (this algorithm is the backbone of machine learning, deep learning etc.). As stated before, there are many articles online discussing selection of appropriate algorithms, however, lack detail in its actual implementation, which the following section will now focus on."
   ]
  },
  {
   "cell_type": "markdown",
   "id": "45828cda",
   "metadata": {},
   "source": [
    "## 2.2 Inputs "
   ]
  },
  {
   "cell_type": "markdown",
   "id": "beaaff32",
   "metadata": {},
   "source": [
    "Only those inputs should be optimized which can influence the output you wish to maximize or minimize (see Feature Selection or Sensitivity Analysis). Ideally, inputs should also further be manipulated or grouped into as few as variables as possible as it is not computationally economical to optimize many inputs at a time. And lastly, the inputs should be able to explore a wide range of possible solutions/search space."
   ]
  },
  {
   "cell_type": "markdown",
   "id": "6c0f31e2",
   "metadata": {},
   "source": [
    "**For adhesive joints, previous research indicates that changing the stiffness of the adhesive (input in this case), continuously along the overlap length (as seen in Figure 2) can drastically lower the stress concentrations (output in this case), compared to the high stress base case where the stiffness of the adhesive is constant along the overlap distance. Thus, we must optimize the stiffness of the adhesive as a function of the overlap distance. We can choose the powerful Fourier Series to represent our stiffness function as seen in Equation 1. It consists of sine waves that when added together can make any known or unknown shape/ function (see <a href=\"https://www.desmos.com/calculator/z4kavk7hfl\" target=\"_blank\">this</a> and <a href=\"https://www.mathsisfun.com/calculus/fourier-series.html\" target=\"_blank\">this</a> for dynamic illustrations) and thus can explore a wide (possibly infinite) number of input solutions. Increasing the number of sine terms, increases the accuracy of the shape, in this case, after three sine terms, there was no notable reduction in stress (although it could still produce different input shapes worth investigating!).**"
   ]
  },
  
![](report_equation.png)
  
  {
   "cell_type": "markdown",
   "id": "fb7fc9e3",
   "metadata": {},
   "source": [
    "**Where E is the stiffness (units Pa) of each adhesive strip based on its position along the overlap, x. A, B, C and D are input parameters for the optimization algorithm (amplitude of each sine wave), and L is the length of the overlap. The equation was created this was such that at x = 0 and x = L, all sine terms are zero and only the constant coefficient D is left. Furthermore, the stiffness equation is also symmetrical, as the stress concentrations are symmetrical. The four parameters, A, B, C and D can take certain values within a pre-defined range during the optimization, the increments chosen are such that it is not computationally taxing whilst also exploring a wide solution space.**"
   ]
  },
  {
   "cell_type": "markdown",
   "id": "8372a1be",
   "metadata": {},
   "source": [
    "## 2.3 Outputs "
   ]
  },
  {
   "cell_type": "markdown",
   "id": "2898b818",
   "metadata": {},
   "source": [
    "There are two things to consider. First, which output(s) you need to maximize or minimize. Second, how to best manipulate this in a way which allows the optimization algorithm to best do its job. \n",
    "\n",
    "First, in this case, only shear stresses in the adhesive are being considered. If I wanted to include other stresses such as peel, I could easily ask the computer to extract the two stresses, combine them and then send them to the optimization algorithm for analysis (this is called Multi-Objective Optimization). I could even apply factors to give preferences, for example weigh the shear stresses by 0.6 and peel stresses by 0.4. It does not matter to the optimization algorithm, as it only ‘sees’ numbers that need minimizing or maximizing. However, if I combined costs in USD and weight in kg for another example in minimizing, I would have to get rid of the effect of different magnitudes as USD could be in 1000’s while kg could be around only 100’s, and therefore the optimization algorithm might only target costs as it is contributing to a larger change in objective function. This problem can be rectified by normalizing the outputs so that they scaled between 0 and 1 only and have no units (not needed for this study)."
   ]
  },
  {
   "cell_type": "markdown",
   "id": "70fd65b3",
   "metadata": {},
   "source": [
    "**Once you have chosen, from a high-level which output metric(s) to optimize, it is now time to consider them in depth, so you can manipulate it such that it is easier for the optimization algorithm to understand what it is you want to achieve. In this case, we want to minimize the two peak stresses of around 16 MPa in Figure 1. We could ask the optimization algorithm to target the stresses only in this region, and it might reduce it to zero, however, it could end up increasing the stresses in other regions, therefore we want to always consider all the points. There are two ways this can be further achieved, we could ask the optimization algorithm to search for and optimize the single highest stress in each point along the adhesive overlap at each iteration, however, this is a very slow process as it is effectively minimizing the stresses along the overlap, one by one. The other, more efficient option is to minimize the sum of stresses along the adhesive (all the points considered in each iteration). You can go a step further and square all the stresses. This creates the effect of the magnitude where the peak stress is squared from 16 MPa to 256 MPa^2 while the mid-point stress is squared from 4 MPa to 16 MPa^2. Thus, the optimization algorithm sees a greater numerical change by targeting the peak stresses. This concept of minimizing the sum of squared is also used when plotting a line of best fit in a data set or Regression analysis.**  \n",
    "\n",
    "**Interestingly, in the final optimized solution, the sum of stresses (not squared) is higher than the base case by 2 MPa, although the sum of stresses squared in the optimized solution is less than the base case by 306 MPa^2. This demonstrates the crucial benefits of squaring. The iteration graphs (solution converged after iteration 7) and final Fourier Series solutions are given ahead.** "
   ]
  },
 
![](report_figures2.png)
 
  {
   "cell_type": "markdown",
   "id": "683ea977",
   "metadata": {},
   "source": [
    "## 2.4 Discussion and Further Work "
   ]
  },
  {
   "cell_type": "markdown",
   "id": "61b77b0b",
   "metadata": {},
   "source": [
    "Figure 3 shows that four solutions (last four iterations) have equal performance, where Figure 4 only shows the two, real solutions obtained (the other two solutions had negative values in some regions). Figure 4 shows that high stiffness values near the areas of stress concentrations are essential. Furthermore, if relatively low stiffness values are used, a peak in adhesive stiffness is not required in the midpoint (blue curve solution). Whereas, if a high stiffness value is used, a peak in the midpoint is also needed (grey curve solution). In both solutions, the end points (x = 0 and 1) took negligible values, indicating the D input parameter representing translation, in equation 1, was negligible. Iteration 3 in Figure 3 displayed another un-real solution, whose objective function is slightly higher than those in the converged iterations (7-10). \n",
    "\n",
    "The following bullet points highlight the limitations and future work: \n",
    "\n",
    "1. The input parameters (A, B, C and D) of the Fourier Series in equation 1, should be constrained such that no negative solutions can arise. \n",
    "\n",
    "2. The Fourier Series consisted of sine terms, which fixed the endpoints behaviour. Equation 1 could introduce both sine and cosine terms to further increase the input search space. A polynomial equation representing the stiffness of the adhesive could also be interesting to investigate. "
   ]
  },
  {
   "cell_type": "markdown",
   "id": "2affc880",
   "metadata": {},
   "source": [
    "# 3. Automation"
   ]
  },
  {
   "cell_type": "markdown",
   "id": "08eee43b",
   "metadata": {},
   "source": [
    "Automation was used in the adhesive computational simulation, as the varying stiffness adhesive in Figure 2, consisted of 1000’s of individual ‘strips’, whose stiffnesses had to be changed continuously and linked to Equation 1. Carrying this out manually would be too time consuming. Thus, the following pseudocode was input in the Ansys Parametric Design Language (very simplified). \n",
    "\n",
    "1. Get maximum number of adhesive strips and store as MaxAd \n",
    "\n",
    "2. For i goes from 0 to MaxAd in increments of 1 \n",
    "\n",
    "        Get x-coordinate of adhesive strip, i, and change its stiffness based on Equation 1 \n",
    "\n",
    "3. End For "
   ]
  },
  {
   "cell_type": "code",
   "execution_count": null,
   "id": "b2be3729",
   "metadata": {},
   "outputs": [],
   "source": []
  }
 ],
 "metadata": {
  "kernelspec": {
   "display_name": "Python 3",
   "language": "python",
   "name": "python3"
  },
  "language_info": {
   "codemirror_mode": {
    "name": "ipython",
    "version": 3
   },
   "file_extension": ".py",
   "mimetype": "text/x-python",
   "name": "python",
   "nbconvert_exporter": "python",
   "pygments_lexer": "ipython3",
   "version": "3.8.8"
  }
 },
 "nbformat": 4,
 "nbformat_minor": 5
}
